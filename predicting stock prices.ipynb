{
 "cells": [
  {
   "cell_type": "code",
   "execution_count": 2,
   "id": "25485444-48d8-45d2-a0b4-e152af812c05",
   "metadata": {},
   "outputs": [],
   "source": [
    "import csv    #allows to read data from csv files\n",
    "import numpy as np #to perform calculations on data\n",
    "from sklearn.svm import SVR  #help us build predictive models\n",
    "import matplotlib.pyplot as plt #plot the data points on graph to analyze"
   ]
  },
  {
   "cell_type": "code",
   "execution_count": null,
   "id": "3f211d03-7a53-421c-b9ff-82b9c5d5badc",
   "metadata": {},
   "outputs": [],
   "source": [
    "dates=[]\n",
    "prices=[]\n"
   ]
  }
 ],
 "metadata": {
  "kernelspec": {
   "display_name": "Python 3 (ipykernel)",
   "language": "python",
   "name": "python3"
  },
  "language_info": {
   "codemirror_mode": {
    "name": "ipython",
    "version": 3
   },
   "file_extension": ".py",
   "mimetype": "text/x-python",
   "name": "python",
   "nbconvert_exporter": "python",
   "pygments_lexer": "ipython3",
   "version": "3.12.4"
  }
 },
 "nbformat": 4,
 "nbformat_minor": 5
}
