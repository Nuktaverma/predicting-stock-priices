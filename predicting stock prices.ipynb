{
 "cells": [
  {
   "cell_type": "code",
   "execution_count": 2,
   "id": "25485444-48d8-45d2-a0b4-e152af812c05",
   "metadata": {},
   "outputs": [],
   "source": [
    "import csv    #allows to read data from csv files\n",
    "import numpy as np #to perform calculations on data\n",
    "from sklearn.svm import SVR  #help us build predictive models\n",
    "import matplotlib.pyplot as plt #plot the data points on graph to analyze"
   ]
  },
  {
   "cell_type": "code",
   "execution_count": null,
   "id": "3f211d03-7a53-421c-b9ff-82b9c5d5badc",
   "metadata": {},
   "outputs": [],
   "source": [
    "dates=[]\n",
    "prices=[]\n",
    "\n",
    "def get_data(filename):\n",
    "    with open(filename, 'r') as csvfile:\n",
    "        csvFileReader=csv.reader(csvfile)\n",
    "        next(csvFileReader)\n",
    "        for row in csvFileReader:\n",
    "            dates.append(int(row[0].split('-')[0]))\n",
    "            prices.append(float(row[1]))\n",
    "    return\n",
    "def predict_prices(dates, prices,x):\n",
    "    dates=np.reshape(dates,len(dates),1))\n",
    "    "
   ]
  }
 ],
 "metadata": {
  "kernelspec": {
   "display_name": "Python 3 (ipykernel)",
   "language": "python",
   "name": "python3"
  },
  "language_info": {
   "codemirror_mode": {
    "name": "ipython",
    "version": 3
   },
   "file_extension": ".py",
   "mimetype": "text/x-python",
   "name": "python",
   "nbconvert_exporter": "python",
   "pygments_lexer": "ipython3",
   "version": "3.12.4"
  }
 },
 "nbformat": 4,
 "nbformat_minor": 5
}
